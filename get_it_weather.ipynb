{
 "cells": [
  {
   "attachments": {},
   "cell_type": "markdown",
   "metadata": {},
   "source": [
    "# Loading libraries"
   ]
  },
  {
   "attachments": {},
   "cell_type": "markdown",
   "metadata": {},
   "source": [
    "To download the italian weather dataset, we are using the R package `riem`. To download the package, you can run either :\n",
    "\n",
    "```r\n",
    "install.packages('riem')\n",
    "```\n",
    "or \n",
    "\n",
    "```r\n",
    "install.packages('devtools')\n",
    "install_github(\"ropenscilabs/riem\")\n",
    "```"
   ]
  },
  {
   "attachments": {},
   "cell_type": "markdown",
   "metadata": {},
   "source": [
    "If you have an error when using one or the other block of code, you can try to run this line in your favorite terminal (in Linux) :\n",
    "\n",
    "`sudo apt-get install libcur14-openssl-dev libssl-dev`"
   ]
  },
  {
   "cell_type": "code",
   "execution_count": 1,
   "metadata": {
    "vscode": {
     "languageId": "r"
    }
   },
   "outputs": [],
   "source": [
    "library(\"riem\")"
   ]
  },
  {
   "attachments": {},
   "cell_type": "markdown",
   "metadata": {},
   "source": [
    "# Get the italian stations"
   ]
  },
  {
   "cell_type": "code",
   "execution_count": 2,
   "metadata": {
    "vscode": {
     "languageId": "r"
    }
   },
   "outputs": [
    {
     "data": {
      "text/html": [
       "<table class=\"dataframe\">\n",
       "<caption>A tibble: 6 × 2</caption>\n",
       "<thead>\n",
       "\t<tr><th scope=col>code</th><th scope=col>name</th></tr>\n",
       "\t<tr><th scope=col>&lt;chr&gt;</th><th scope=col>&lt;chr&gt;</th></tr>\n",
       "</thead>\n",
       "<tbody>\n",
       "\t<tr><td>AE__ASOS</td><td>United Arab Emirates ASOS</td></tr>\n",
       "\t<tr><td>AF__ASOS</td><td>Afghanistan ASOS         </td></tr>\n",
       "\t<tr><td>AG__ASOS</td><td>Antigua and Barbuda ASOS </td></tr>\n",
       "\t<tr><td>AI__ASOS</td><td>Anguilla ASOS            </td></tr>\n",
       "\t<tr><td>AK_ASOS </td><td>Alaska ASOS              </td></tr>\n",
       "\t<tr><td>AL__ASOS</td><td>Albania ASOS             </td></tr>\n",
       "</tbody>\n",
       "</table>\n"
      ],
      "text/latex": [
       "A tibble: 6 × 2\n",
       "\\begin{tabular}{ll}\n",
       " code & name\\\\\n",
       " <chr> & <chr>\\\\\n",
       "\\hline\n",
       "\t AE\\_\\_ASOS & United Arab Emirates ASOS\\\\\n",
       "\t AF\\_\\_ASOS & Afghanistan ASOS         \\\\\n",
       "\t AG\\_\\_ASOS & Antigua and Barbuda ASOS \\\\\n",
       "\t AI\\_\\_ASOS & Anguilla ASOS            \\\\\n",
       "\t AK\\_ASOS  & Alaska ASOS              \\\\\n",
       "\t AL\\_\\_ASOS & Albania ASOS             \\\\\n",
       "\\end{tabular}\n"
      ],
      "text/markdown": [
       "\n",
       "A tibble: 6 × 2\n",
       "\n",
       "| code &lt;chr&gt; | name &lt;chr&gt; |\n",
       "|---|---|\n",
       "| AE__ASOS | United Arab Emirates ASOS |\n",
       "| AF__ASOS | Afghanistan ASOS          |\n",
       "| AG__ASOS | Antigua and Barbuda ASOS  |\n",
       "| AI__ASOS | Anguilla ASOS             |\n",
       "| AK_ASOS  | Alaska ASOS               |\n",
       "| AL__ASOS | Albania ASOS              |\n",
       "\n"
      ],
      "text/plain": [
       "  code     name                     \n",
       "1 AE__ASOS United Arab Emirates ASOS\n",
       "2 AF__ASOS Afghanistan ASOS         \n",
       "3 AG__ASOS Antigua and Barbuda ASOS \n",
       "4 AI__ASOS Anguilla ASOS            \n",
       "5 AK_ASOS  Alaska ASOS              \n",
       "6 AL__ASOS Albania ASOS             "
      ]
     },
     "metadata": {},
     "output_type": "display_data"
    }
   ],
   "source": [
    "networks <- riem_networks()\n",
    "head(networks)"
   ]
  },
  {
   "cell_type": "code",
   "execution_count": 3,
   "metadata": {
    "vscode": {
     "languageId": "r"
    }
   },
   "outputs": [
    {
     "data": {
      "text/html": [
       "<table class=\"dataframe\">\n",
       "<caption>A tibble: 6 × 21</caption>\n",
       "<thead>\n",
       "\t<tr><th scope=col>index</th><th scope=col>id</th><th scope=col>synop</th><th scope=col>name</th><th scope=col>country</th><th scope=col>elevation</th><th scope=col>network</th><th scope=col>online</th><th scope=col>plot_name</th><th scope=col>modified</th><th scope=col>⋯</th><th scope=col>tzname</th><th scope=col>iemid</th><th scope=col>archive_begin</th><th scope=col>metasite</th><th scope=col>longitude</th><th scope=col>latitude</th><th scope=col>state</th><th scope=col>archive_end</th><th scope=col>lon</th><th scope=col>lat</th></tr>\n",
       "\t<tr><th scope=col>&lt;int&gt;</th><th scope=col>&lt;chr&gt;</th><th scope=col>&lt;dbl&gt;</th><th scope=col>&lt;chr&gt;</th><th scope=col>&lt;chr&gt;</th><th scope=col>&lt;dbl&gt;</th><th scope=col>&lt;chr&gt;</th><th scope=col>&lt;lgl&gt;</th><th scope=col>&lt;chr&gt;</th><th scope=col>&lt;chr&gt;</th><th scope=col>⋯</th><th scope=col>&lt;chr&gt;</th><th scope=col>&lt;int&gt;</th><th scope=col>&lt;chr&gt;</th><th scope=col>&lt;lgl&gt;</th><th scope=col>&lt;dbl&gt;</th><th scope=col>&lt;dbl&gt;</th><th scope=col>&lt;chr&gt;</th><th scope=col>&lt;chr&gt;</th><th scope=col>&lt;dbl&gt;</th><th scope=col>&lt;dbl&gt;</th></tr>\n",
       "</thead>\n",
       "<tbody>\n",
       "\t<tr><td>0</td><td>LIMG</td><td>99999</td><td>Albenga </td><td>IT</td><td> 49.0000</td><td>IT__ASOS</td><td>TRUE</td><td>ALBENGA         </td><td>2020-08-04T09:56:16Z</td><td>⋯</td><td>Europe/Rome</td><td>26049</td><td>1973-01-01T00:00:00Z</td><td>FALSE</td><td> 8.12556</td><td>44.04583</td><td>NA</td><td>NA                  </td><td> 8.12556</td><td>44.04583</td></tr>\n",
       "\t<tr><td>1</td><td>LIEA</td><td>99999</td><td>Alghero </td><td>IT</td><td> 23.0000</td><td>IT__ASOS</td><td>TRUE</td><td>ALGHERO         </td><td>2020-08-04T09:56:16Z</td><td>⋯</td><td>Europe/Rome</td><td>26026</td><td>1957-06-30T00:00:00Z</td><td>FALSE</td><td> 8.28861</td><td>40.63111</td><td>NA</td><td>NA                  </td><td> 8.28861</td><td>40.63111</td></tr>\n",
       "\t<tr><td>2</td><td>LIBA</td><td>99999</td><td>Amendola</td><td>IT</td><td> 60.0000</td><td>IT__ASOS</td><td>TRUE</td><td>AMENDOLA (IT-AFB</td><td>2020-08-04T09:56:16Z</td><td>⋯</td><td>Europe/Rome</td><td>26005</td><td>1944-01-31T00:00:00Z</td><td>FALSE</td><td>15.71389</td><td>41.53806</td><td>NA</td><td>NA                  </td><td>15.71389</td><td>41.53806</td></tr>\n",
       "\t<tr><td>3</td><td>LIPY</td><td>99999</td><td>Ancona  </td><td>IT</td><td> 10.0000</td><td>IT__ASOS</td><td>TRUE</td><td>FALCONARA (IT-AF</td><td>2020-08-04T09:56:16Z</td><td>⋯</td><td>Europe/Rome</td><td>26075</td><td>1945-04-14T00:00:00Z</td><td>FALSE</td><td>13.36028</td><td>43.61667</td><td>NA</td><td>NA                  </td><td>13.36028</td><td>43.61667</td></tr>\n",
       "\t<tr><td>4</td><td>LIMW</td><td>99999</td><td>Aosta   </td><td>IT</td><td>545.0000</td><td>IT__ASOS</td><td>TRUE</td><td>Aosta Airport   </td><td>2020-08-04T09:56:16Z</td><td>⋯</td><td>Europe/Rome</td><td>19582</td><td>1984-06-30T00:00:00Z</td><td>FALSE</td><td> 7.36872</td><td>45.73846</td><td>NA</td><td>NA                  </td><td> 7.36872</td><td>45.73846</td></tr>\n",
       "\t<tr><td>5</td><td>LIQB</td><td>   NA</td><td>Arezzo  </td><td>IT</td><td>246.8307</td><td>IT__ASOS</td><td>TRUE</td><td>Arezzo          </td><td>2022-10-27T07:08:06Z</td><td>⋯</td><td>Europe/Rome</td><td>26076</td><td>1978-09-14T00:00:00Z</td><td>FALSE</td><td>11.84560</td><td>43.45970</td><td>  </td><td>2016-03-06T00:00:00Z</td><td>11.84560</td><td>43.45970</td></tr>\n",
       "</tbody>\n",
       "</table>\n"
      ],
      "text/latex": [
       "A tibble: 6 × 21\n",
       "\\begin{tabular}{lllllllllllllllllllll}\n",
       " index & id & synop & name & country & elevation & network & online & plot\\_name & modified & ⋯ & tzname & iemid & archive\\_begin & metasite & longitude & latitude & state & archive\\_end & lon & lat\\\\\n",
       " <int> & <chr> & <dbl> & <chr> & <chr> & <dbl> & <chr> & <lgl> & <chr> & <chr> & ⋯ & <chr> & <int> & <chr> & <lgl> & <dbl> & <dbl> & <chr> & <chr> & <dbl> & <dbl>\\\\\n",
       "\\hline\n",
       "\t 0 & LIMG & 99999 & Albenga  & IT &  49.0000 & IT\\_\\_ASOS & TRUE & ALBENGA          & 2020-08-04T09:56:16Z & ⋯ & Europe/Rome & 26049 & 1973-01-01T00:00:00Z & FALSE &  8.12556 & 44.04583 & NA & NA                   &  8.12556 & 44.04583\\\\\n",
       "\t 1 & LIEA & 99999 & Alghero  & IT &  23.0000 & IT\\_\\_ASOS & TRUE & ALGHERO          & 2020-08-04T09:56:16Z & ⋯ & Europe/Rome & 26026 & 1957-06-30T00:00:00Z & FALSE &  8.28861 & 40.63111 & NA & NA                   &  8.28861 & 40.63111\\\\\n",
       "\t 2 & LIBA & 99999 & Amendola & IT &  60.0000 & IT\\_\\_ASOS & TRUE & AMENDOLA (IT-AFB & 2020-08-04T09:56:16Z & ⋯ & Europe/Rome & 26005 & 1944-01-31T00:00:00Z & FALSE & 15.71389 & 41.53806 & NA & NA                   & 15.71389 & 41.53806\\\\\n",
       "\t 3 & LIPY & 99999 & Ancona   & IT &  10.0000 & IT\\_\\_ASOS & TRUE & FALCONARA (IT-AF & 2020-08-04T09:56:16Z & ⋯ & Europe/Rome & 26075 & 1945-04-14T00:00:00Z & FALSE & 13.36028 & 43.61667 & NA & NA                   & 13.36028 & 43.61667\\\\\n",
       "\t 4 & LIMW & 99999 & Aosta    & IT & 545.0000 & IT\\_\\_ASOS & TRUE & Aosta Airport    & 2020-08-04T09:56:16Z & ⋯ & Europe/Rome & 19582 & 1984-06-30T00:00:00Z & FALSE &  7.36872 & 45.73846 & NA & NA                   &  7.36872 & 45.73846\\\\\n",
       "\t 5 & LIQB &    NA & Arezzo   & IT & 246.8307 & IT\\_\\_ASOS & TRUE & Arezzo           & 2022-10-27T07:08:06Z & ⋯ & Europe/Rome & 26076 & 1978-09-14T00:00:00Z & FALSE & 11.84560 & 43.45970 &    & 2016-03-06T00:00:00Z & 11.84560 & 43.45970\\\\\n",
       "\\end{tabular}\n"
      ],
      "text/markdown": [
       "\n",
       "A tibble: 6 × 21\n",
       "\n",
       "| index &lt;int&gt; | id &lt;chr&gt; | synop &lt;dbl&gt; | name &lt;chr&gt; | country &lt;chr&gt; | elevation &lt;dbl&gt; | network &lt;chr&gt; | online &lt;lgl&gt; | plot_name &lt;chr&gt; | modified &lt;chr&gt; | ⋯ ⋯ | tzname &lt;chr&gt; | iemid &lt;int&gt; | archive_begin &lt;chr&gt; | metasite &lt;lgl&gt; | longitude &lt;dbl&gt; | latitude &lt;dbl&gt; | state &lt;chr&gt; | archive_end &lt;chr&gt; | lon &lt;dbl&gt; | lat &lt;dbl&gt; |\n",
       "|---|---|---|---|---|---|---|---|---|---|---|---|---|---|---|---|---|---|---|---|---|\n",
       "| 0 | LIMG | 99999 | Albenga  | IT |  49.0000 | IT__ASOS | TRUE | ALBENGA          | 2020-08-04T09:56:16Z | ⋯ | Europe/Rome | 26049 | 1973-01-01T00:00:00Z | FALSE |  8.12556 | 44.04583 | NA | NA                   |  8.12556 | 44.04583 |\n",
       "| 1 | LIEA | 99999 | Alghero  | IT |  23.0000 | IT__ASOS | TRUE | ALGHERO          | 2020-08-04T09:56:16Z | ⋯ | Europe/Rome | 26026 | 1957-06-30T00:00:00Z | FALSE |  8.28861 | 40.63111 | NA | NA                   |  8.28861 | 40.63111 |\n",
       "| 2 | LIBA | 99999 | Amendola | IT |  60.0000 | IT__ASOS | TRUE | AMENDOLA (IT-AFB | 2020-08-04T09:56:16Z | ⋯ | Europe/Rome | 26005 | 1944-01-31T00:00:00Z | FALSE | 15.71389 | 41.53806 | NA | NA                   | 15.71389 | 41.53806 |\n",
       "| 3 | LIPY | 99999 | Ancona   | IT |  10.0000 | IT__ASOS | TRUE | FALCONARA (IT-AF | 2020-08-04T09:56:16Z | ⋯ | Europe/Rome | 26075 | 1945-04-14T00:00:00Z | FALSE | 13.36028 | 43.61667 | NA | NA                   | 13.36028 | 43.61667 |\n",
       "| 4 | LIMW | 99999 | Aosta    | IT | 545.0000 | IT__ASOS | TRUE | Aosta Airport    | 2020-08-04T09:56:16Z | ⋯ | Europe/Rome | 19582 | 1984-06-30T00:00:00Z | FALSE |  7.36872 | 45.73846 | NA | NA                   |  7.36872 | 45.73846 |\n",
       "| 5 | LIQB |    NA | Arezzo   | IT | 246.8307 | IT__ASOS | TRUE | Arezzo           | 2022-10-27T07:08:06Z | ⋯ | Europe/Rome | 26076 | 1978-09-14T00:00:00Z | FALSE | 11.84560 | 43.45970 | <!----> | 2016-03-06T00:00:00Z | 11.84560 | 43.45970 |\n",
       "\n"
      ],
      "text/plain": [
       "  index id   synop name     country elevation network  online plot_name       \n",
       "1 0     LIMG 99999 Albenga  IT       49.0000  IT__ASOS TRUE   ALBENGA         \n",
       "2 1     LIEA 99999 Alghero  IT       23.0000  IT__ASOS TRUE   ALGHERO         \n",
       "3 2     LIBA 99999 Amendola IT       60.0000  IT__ASOS TRUE   AMENDOLA (IT-AFB\n",
       "4 3     LIPY 99999 Ancona   IT       10.0000  IT__ASOS TRUE   FALCONARA (IT-AF\n",
       "5 4     LIMW 99999 Aosta    IT      545.0000  IT__ASOS TRUE   Aosta Airport   \n",
       "6 5     LIQB    NA Arezzo   IT      246.8307  IT__ASOS TRUE   Arezzo          \n",
       "  modified             ⋯ tzname      iemid archive_begin        metasite\n",
       "1 2020-08-04T09:56:16Z ⋯ Europe/Rome 26049 1973-01-01T00:00:00Z FALSE   \n",
       "2 2020-08-04T09:56:16Z ⋯ Europe/Rome 26026 1957-06-30T00:00:00Z FALSE   \n",
       "3 2020-08-04T09:56:16Z ⋯ Europe/Rome 26005 1944-01-31T00:00:00Z FALSE   \n",
       "4 2020-08-04T09:56:16Z ⋯ Europe/Rome 26075 1945-04-14T00:00:00Z FALSE   \n",
       "5 2020-08-04T09:56:16Z ⋯ Europe/Rome 19582 1984-06-30T00:00:00Z FALSE   \n",
       "6 2022-10-27T07:08:06Z ⋯ Europe/Rome 26076 1978-09-14T00:00:00Z FALSE   \n",
       "  longitude latitude state archive_end          lon      lat     \n",
       "1  8.12556  44.04583 NA    NA                    8.12556 44.04583\n",
       "2  8.28861  40.63111 NA    NA                    8.28861 40.63111\n",
       "3 15.71389  41.53806 NA    NA                   15.71389 41.53806\n",
       "4 13.36028  43.61667 NA    NA                   13.36028 43.61667\n",
       "5  7.36872  45.73846 NA    NA                    7.36872 45.73846\n",
       "6 11.84560  43.45970       2016-03-06T00:00:00Z 11.84560 43.45970"
      ]
     },
     "metadata": {},
     "output_type": "display_data"
    }
   ],
   "source": [
    "# Get the italian ASOS stations\n",
    "stations <- riem_stations(network = \"IT__ASOS\")\n",
    "head(stations)"
   ]
  },
  {
   "attachments": {},
   "cell_type": "markdown",
   "metadata": {},
   "source": [
    "# Merge all the data in a CSV file"
   ]
  },
  {
   "attachments": {},
   "cell_type": "markdown",
   "metadata": {},
   "source": [
    "We are interested in data ranging from January 1st 2018 to June 28th 2020."
   ]
  },
  {
   "cell_type": "code",
   "execution_count": 4,
   "metadata": {
    "vscode": {
     "languageId": "r"
    }
   },
   "outputs": [
    {
     "name": "stderr",
     "output_type": "stream",
     "text": [
      "Warning message:\n",
      "“No results for this query.”\n",
      "Warning message:\n",
      "“No results for this query.”\n",
      "Warning message:\n",
      "“No results for this query.”\n",
      "Warning message:\n",
      "“No results for this query.”\n",
      "Warning message:\n",
      "“No results for this query.”\n",
      "Warning message in scan(file = file, what = what, sep = sep, quote = quote, dec = dec, :\n",
      "“Fin de fichier (EOF) dans une chaîne de caractères entre guillements”\n",
      "Warning message:\n",
      "“No results for this query.”\n",
      "Warning message:\n",
      "“No results for this query.”\n",
      "Warning message:\n",
      "“No results for this query.”\n",
      "Warning message:\n",
      "“No results for this query.”\n",
      "Warning message:\n",
      "“No results for this query.”\n",
      "Warning message:\n",
      "“No results for this query.”\n",
      "Warning message:\n",
      "“No results for this query.”\n"
     ]
    }
   ],
   "source": [
    "# Get stations ids in a list\n",
    "stations_ids <- stations$id\n",
    "\n",
    "# Get the temperature for the stations\n",
    "data <- riem_measures(stations_ids[1], date_start = \"2018-01-01\", date_end = \"2020-06-29\")[, c(\"valid\", \"tmpf\")]\n",
    "for (i in 2:length(stations_ids)) {\n",
    "  data <- rbind(data, riem_measures(stations_ids[i], date_start = \"2018-01-01\", date_end = \"2020-06-29\")[, c(\"valid\", \"tmpf\")])\n",
    "}\n",
    "\n",
    "write.csv(data, \"data/weather_it.csv\")"
   ]
  }
 ],
 "metadata": {
  "kernelspec": {
   "display_name": "R",
   "language": "R",
   "name": "ir"
  },
  "language_info": {
   "codemirror_mode": "r",
   "file_extension": ".r",
   "mimetype": "text/x-r-source",
   "name": "R",
   "pygments_lexer": "r",
   "version": "4.1.2"
  },
  "orig_nbformat": 4
 },
 "nbformat": 4,
 "nbformat_minor": 2
}
